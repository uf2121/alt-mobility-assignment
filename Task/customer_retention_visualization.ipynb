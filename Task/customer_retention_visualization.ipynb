{
 "cells": [
  {
   "cell_type": "code",
   "execution_count": null,
   "id": "6da736e5",
   "metadata": {},
   "outputs": [],
   "source": [
    "\n",
    "# Install necessary libraries\n",
    "!pip install pandas matplotlib seaborn\n"
   ]
  },
  {
   "cell_type": "code",
   "execution_count": null,
   "id": "d42d0290",
   "metadata": {},
   "outputs": [],
   "source": [
    "\n",
    "# Import libraries\n",
    "import pandas as pd\n",
    "import matplotlib.pyplot as plt\n",
    "import seaborn as sns\n"
   ]
  },
  {
   "cell_type": "code",
   "execution_count": null,
   "id": "382b5da0",
   "metadata": {},
   "outputs": [],
   "source": [
    "\n",
    "# Upload customer_orders.csv\n",
    "from google.colab import files\n",
    "uploaded = files.upload()\n",
    "\n",
    "import io\n",
    "customer_orders = pd.read_csv(io.BytesIO(uploaded['customer_orders.csv']))\n",
    "\n",
    "# Preview\n",
    "customer_orders.head()\n"
   ]
  },
  {
   "cell_type": "code",
   "execution_count": null,
   "id": "313e4fb1",
   "metadata": {},
   "outputs": [],
   "source": [
    "\n",
    "# Convert order_date to datetime\n",
    "customer_orders['order_date'] = pd.to_datetime(customer_orders['order_date'])\n",
    "\n",
    "# Create cohort_month (first purchase month per customer)\n",
    "customer_orders['cohort_month'] = customer_orders.groupby('customer_id')['order_date'].transform('min').dt.to_period('M')\n",
    "\n",
    "# Create order_month\n",
    "customer_orders['order_month'] = customer_orders['order_date'].dt.to_period('M')\n",
    "\n",
    "# Calculate cohort index\n",
    "customer_orders['cohort_index'] = (customer_orders['order_month'].dt.year - customer_orders['cohort_month'].dt.year) * 12 + (customer_orders['order_month'].dt.month - customer_orders['cohort_month'].dt.month)\n",
    "\n",
    "customer_orders[['customer_id', 'order_date', 'cohort_month', 'order_month', 'cohort_index']].head()\n"
   ]
  },
  {
   "cell_type": "code",
   "execution_count": null,
   "id": "e3334029",
   "metadata": {},
   "outputs": [],
   "source": [
    "\n",
    "# Group by cohort_month and cohort_index\n",
    "cohort_data = customer_orders.groupby(['cohort_month', 'cohort_index'])['customer_id'].nunique().reset_index()\n",
    "\n",
    "# Pivot\n",
    "cohort_pivot = cohort_data.pivot(index='cohort_month', columns='cohort_index', values='customer_id')\n",
    "\n",
    "# Show pivot\n",
    "cohort_pivot\n"
   ]
  },
  {
   "cell_type": "code",
   "execution_count": null,
   "id": "9b099824",
   "metadata": {},
   "outputs": [],
   "source": [
    "\n",
    "# Plot heatmap\n",
    "plt.figure(figsize=(12, 8))\n",
    "sns.heatmap(cohort_pivot, annot=True, fmt='g', cmap='YlGnBu')\n",
    "plt.title('Customer Retention Table')\n",
    "plt.xlabel('Months Since First Purchase')\n",
    "plt.ylabel('Cohort (First Purchase Month)')\n",
    "plt.show()\n"
   ]
  }
 ],
 "metadata": {},
 "nbformat": 4,
 "nbformat_minor": 5
}
